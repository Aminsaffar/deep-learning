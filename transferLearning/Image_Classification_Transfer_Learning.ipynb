{
  "nbformat": 4,
  "nbformat_minor": 0,
  "metadata": {
    "colab": {
      "name": "Copy of CIFAR-10-transferLearning.ipynb",
      "provenance": [],
      "collapsed_sections": [],
      "authorship_tag": "ABX9TyNcxRG+S2VqePk2+VvuvU1x"
    },
    "kernelspec": {
      "name": "python3",
      "display_name": "Python 3"
    },
    "accelerator": "GPU"
  },
  "cells": [
    {
      "cell_type": "markdown",
      "metadata": {
        "id": "gTv2iwGBAquy",
        "colab_type": "text"
      },
      "source": [
        "Image Classification with Transfer Learning on **CIFAR-10** dataset and **vgg16** model\n",
        "\n",
        "\n"
      ]
    },
    {
      "cell_type": "code",
      "metadata": {
        "id": "At3vL1C60ByN",
        "colab_type": "code",
        "colab": {
          "base_uri": "https://localhost:8080/",
          "height": 35
        },
        "outputId": "51286762-7278-466f-b332-1958788979e0"
      },
      "source": [
        "import os\n",
        "from __future__ import print_function\n",
        "import numpy as np\n",
        "import matplotlib.pyplot as plt\n",
        "import tensorflow as tf\n",
        "import keras\n",
        "from keras.preprocessing.image import ImageDataGenerator\n",
        "from keras.models import Sequential\n",
        "from keras.layers import Dense, Dropout, Activation, Flatten,Conv2D, MaxPooling2D, GlobalAveragePooling2D,BatchNormalization\n",
        "from keras import optimizers\n",
        "from keras.datasets import cifar10\n",
        "from keras.engine import Model\n",
        "from keras.applications import vgg16 as vgg"
      ],
      "execution_count": 3,
      "outputs": [
        {
          "output_type": "stream",
          "text": [
            "Using TensorFlow backend.\n"
          ],
          "name": "stderr"
        }
      ]
    },
    {
      "cell_type": "code",
      "metadata": {
        "id": "NebsyVWy0Jv_",
        "colab_type": "code",
        "colab": {}
      },
      "source": [
        "batch_size = 512\n",
        "num_classes = 10\n",
        "epochs = 50\n",
        "data_augmentation = True\n",
        "num_predictions = 20\n",
        "save_dir = os.path.join(os.getcwd(), 'saved_models')\n",
        "model_name = 'keras_cifar10_trained_model.h5'"
      ],
      "execution_count": 0,
      "outputs": []
    },
    {
      "cell_type": "code",
      "metadata": {
        "id": "zw4JOLHN0Cvz",
        "colab_type": "code",
        "outputId": "4aaf6d77-7fa8-458f-f39f-0a33e34b2b73",
        "colab": {
          "base_uri": "https://localhost:8080/",
          "height": 72
        }
      },
      "source": [
        "# The data, split between train and test sets:\n",
        "(x_train, y_train), (x_test, y_test) = cifar10.load_data()\n",
        "print('x_train shape:', x_train.shape)\n",
        "print(x_train.shape[0], 'train samples')\n",
        "print(x_test.shape[0], 'test samples')"
      ],
      "execution_count": 5,
      "outputs": [
        {
          "output_type": "stream",
          "text": [
            "x_train shape: (50000, 32, 32, 3)\n",
            "50000 train samples\n",
            "10000 test samples\n"
          ],
          "name": "stdout"
        }
      ]
    },
    {
      "cell_type": "code",
      "metadata": {
        "id": "gE9erryx0Nx4",
        "colab_type": "code",
        "colab": {}
      },
      "source": [
        "# Convert class vectors to binary class matrices.\n",
        "y_train = keras.utils.to_categorical(y_train, num_classes)\n",
        "y_test = keras.utils.to_categorical(y_test, num_classes)\n"
      ],
      "execution_count": 0,
      "outputs": []
    },
    {
      "cell_type": "code",
      "metadata": {
        "id": "o44FYtWe0XzV",
        "colab_type": "code",
        "colab": {}
      },
      "source": [
        "\n",
        "x_train = x_train.astype('float32')\n",
        "x_test = x_test.astype('float32')\n",
        "x_train /= 255\n",
        "x_test /= 255\n"
      ],
      "execution_count": 0,
      "outputs": []
    },
    {
      "cell_type": "code",
      "metadata": {
        "id": "CHH5JUTp2Y2w",
        "colab_type": "code",
        "colab": {}
      },
      "source": [
        "base_model = vgg.VGG16(weights='imagenet', \n",
        "                       include_top=False, \n",
        "                       input_shape=(32, 32, 3))"
      ],
      "execution_count": 0,
      "outputs": []
    },
    {
      "cell_type": "code",
      "metadata": {
        "id": "9poOPm_k2caN",
        "colab_type": "code",
        "colab": {}
      },
      "source": [
        "# Extract the last layer from third block of vgg16 model\n",
        "last = base_model.get_layer('block3_pool').output"
      ],
      "execution_count": 0,
      "outputs": []
    },
    {
      "cell_type": "code",
      "metadata": {
        "id": "xM7c6J6o2c_O",
        "colab_type": "code",
        "colab": {}
      },
      "source": [
        "# Add classification layers on top of it\n",
        "x = GlobalAveragePooling2D()(last)\n",
        "x= BatchNormalization()(x)\n",
        "x = Dense(256, activation='relu')(x)\n",
        "x = Dropout(0.6)(x)\n",
        "x = Dense(64, activation='relu')(x)\n",
        "pred = Dense(num_classes, activation='softmax')(x)\n",
        "model = Model(base_model.input, pred)"
      ],
      "execution_count": 0,
      "outputs": []
    },
    {
      "cell_type": "code",
      "metadata": {
        "id": "ZUAK-2hIlERp",
        "colab_type": "code",
        "outputId": "57575ac8-0f5d-4d56-ba9c-dc916888582d",
        "colab": {
          "base_uri": "https://localhost:8080/",
          "height": 329
        }
      },
      "source": [
        "# model.get_layer('block1_conv1').trainable = False\n",
        "# model.get_layer('block1_conv2').trainable = False\n",
        "# model.get_layer('block2_conv1').trainable = False\n",
        "# model.get_layer('block2_conv2').trainable = False\n",
        "# model.get_layer('block3_conv1').trainable = False\n",
        "# model.get_layer('block3_conv2').trainable = False\n",
        "# model.get_layer('block3_conv3').trainable = False\n",
        "\n",
        "for l in model.layers:\n",
        "    print(l.name, l.trainable)"
      ],
      "execution_count": 11,
      "outputs": [
        {
          "output_type": "stream",
          "text": [
            "input_1 False\n",
            "block1_conv1 True\n",
            "block1_conv2 True\n",
            "block1_pool True\n",
            "block2_conv1 True\n",
            "block2_conv2 True\n",
            "block2_pool True\n",
            "block3_conv1 True\n",
            "block3_conv2 True\n",
            "block3_conv3 True\n",
            "block3_pool True\n",
            "global_average_pooling2d_1 True\n",
            "batch_normalization_1 True\n",
            "dense_1 True\n",
            "dropout_1 True\n",
            "dense_2 True\n",
            "dense_3 True\n"
          ],
          "name": "stdout"
        }
      ]
    },
    {
      "cell_type": "code",
      "metadata": {
        "id": "Qi6ojPkN9tNH",
        "colab_type": "code",
        "outputId": "9e283e5f-44ad-4163-8776-be6d0891f785",
        "colab": {
          "base_uri": "https://localhost:8080/",
          "height": 788
        }
      },
      "source": [
        "model.summary()"
      ],
      "execution_count": 12,
      "outputs": [
        {
          "output_type": "stream",
          "text": [
            "Model: \"model_1\"\n",
            "_________________________________________________________________\n",
            "Layer (type)                 Output Shape              Param #   \n",
            "=================================================================\n",
            "input_1 (InputLayer)         (None, 32, 32, 3)         0         \n",
            "_________________________________________________________________\n",
            "block1_conv1 (Conv2D)        (None, 32, 32, 64)        1792      \n",
            "_________________________________________________________________\n",
            "block1_conv2 (Conv2D)        (None, 32, 32, 64)        36928     \n",
            "_________________________________________________________________\n",
            "block1_pool (MaxPooling2D)   (None, 16, 16, 64)        0         \n",
            "_________________________________________________________________\n",
            "block2_conv1 (Conv2D)        (None, 16, 16, 128)       73856     \n",
            "_________________________________________________________________\n",
            "block2_conv2 (Conv2D)        (None, 16, 16, 128)       147584    \n",
            "_________________________________________________________________\n",
            "block2_pool (MaxPooling2D)   (None, 8, 8, 128)         0         \n",
            "_________________________________________________________________\n",
            "block3_conv1 (Conv2D)        (None, 8, 8, 256)         295168    \n",
            "_________________________________________________________________\n",
            "block3_conv2 (Conv2D)        (None, 8, 8, 256)         590080    \n",
            "_________________________________________________________________\n",
            "block3_conv3 (Conv2D)        (None, 8, 8, 256)         590080    \n",
            "_________________________________________________________________\n",
            "block3_pool (MaxPooling2D)   (None, 4, 4, 256)         0         \n",
            "_________________________________________________________________\n",
            "global_average_pooling2d_1 ( (None, 256)               0         \n",
            "_________________________________________________________________\n",
            "batch_normalization_1 (Batch (None, 256)               1024      \n",
            "_________________________________________________________________\n",
            "dense_1 (Dense)              (None, 256)               65792     \n",
            "_________________________________________________________________\n",
            "dropout_1 (Dropout)          (None, 256)               0         \n",
            "_________________________________________________________________\n",
            "dense_2 (Dense)              (None, 64)                16448     \n",
            "_________________________________________________________________\n",
            "dense_3 (Dense)              (None, 10)                650       \n",
            "=================================================================\n",
            "Total params: 1,819,402\n",
            "Trainable params: 1,818,890\n",
            "Non-trainable params: 512\n",
            "_________________________________________________________________\n"
          ],
          "name": "stdout"
        }
      ]
    },
    {
      "cell_type": "code",
      "metadata": {
        "id": "fa9wegAD2-cZ",
        "colab_type": "code",
        "colab": {}
      },
      "source": [
        "LEARNING_RATE = .00001#1e-4\n",
        "model.compile(loss='binary_crossentropy',\n",
        "              optimizer=optimizers.Adam(),\n",
        "              metrics=['accuracy'])"
      ],
      "execution_count": 0,
      "outputs": []
    },
    {
      "cell_type": "code",
      "metadata": {
        "id": "74eCoO6B1evv",
        "colab_type": "code",
        "colab": {}
      },
      "source": [
        "stop_callbacks = [              \n",
        "    tf.keras.callbacks.EarlyStopping(monitor='val_accuracy',patience=5),\n",
        "]"
      ],
      "execution_count": 0,
      "outputs": []
    },
    {
      "cell_type": "code",
      "metadata": {
        "id": "Oob5fVzL0U8k",
        "colab_type": "code",
        "outputId": "ff8de9f4-2458-4054-bbf2-c20ba75aceee",
        "colab": {
          "base_uri": "https://localhost:8080/",
          "height": 1000
        }
      },
      "source": [
        "print('Using real-time data augmentation.')\n",
        "# This will do preprocessing and realtime data augmentation:\n",
        "datagen = ImageDataGenerator(\n",
        "    featurewise_center=False,  # set input mean to 0 over the dataset\n",
        "    samplewise_center=False,  # set each sample mean to 0\n",
        "    featurewise_std_normalization=False,  # divide inputs by std of the dataset\n",
        "    samplewise_std_normalization=False,  # divide each input by its std\n",
        "    zca_whitening=False,  # apply ZCA whitening\n",
        "    zca_epsilon=1e-06,  # epsilon for ZCA whitening\n",
        "    rotation_range=40,  # randomly rotate images in the range (degrees, 0 to 180)\n",
        "    # randomly shift images horizontally (fraction of total width)\n",
        "    width_shift_range=0.1,\n",
        "    # randomly shift images vertically (fraction of total height)\n",
        "    height_shift_range=0.1,\n",
        "    shear_range=0.1,  # set range for random shear\n",
        "    zoom_range=0.1,  # set range for random zoom\n",
        "    channel_shift_range=0.2,  # set range for random channel shifts\n",
        "    # set mode for filling points outside the input boundaries\n",
        "    fill_mode='nearest',\n",
        "    cval=0.,  # value used for fill_mode = \"constant\"\n",
        "    horizontal_flip=True,  # randomly flip images\n",
        "    vertical_flip=False,  # randomly flip images\n",
        "    # set rescaling factor (applied before any other transformation)\n",
        "    rescale=None,\n",
        "    # set function that will be applied on each input\n",
        "    preprocessing_function=None,\n",
        "    # image data format, either \"channels_first\" or \"channels_last\"\n",
        "    data_format=None,\n",
        "    # fraction of images reserved for validation (strictly between 0 and 1)\n",
        "    validation_split=0.0)\n",
        "\n",
        "# Compute quantities required for feature-wise normalization\n",
        "# (std, mean, and principal components if ZCA whitening is applied).\n",
        "datagen.fit(x_train)\n",
        "\n",
        "# Fit the model on the batches generated by datagen.flow().\n",
        "model.fit_generator(\n",
        "          datagen.flow(x_train, \n",
        "                      y_train,\n",
        "                      batch_size=batch_size),\n",
        "          epochs=epochs,\n",
        "          validation_data=(x_test, y_test),\n",
        "          workers=4,\n",
        "          callbacks=stop_callbacks)\n",
        "\n"
      ],
      "execution_count": 15,
      "outputs": [
        {
          "output_type": "stream",
          "text": [
            "Using real-time data augmentation.\n",
            "Epoch 1/50\n",
            "98/98 [==============================] - 42s 426ms/step - loss: 0.2526 - accuracy: 0.9061 - val_loss: 0.3596 - val_accuracy: 0.8672\n",
            "Epoch 2/50\n",
            "98/98 [==============================] - 40s 412ms/step - loss: 0.1956 - accuracy: 0.9235 - val_loss: 0.5773 - val_accuracy: 0.8727\n",
            "Epoch 3/50\n",
            "98/98 [==============================] - 40s 413ms/step - loss: 0.1700 - accuracy: 0.9339 - val_loss: 0.3313 - val_accuracy: 0.8940\n",
            "Epoch 4/50\n",
            "98/98 [==============================] - 40s 413ms/step - loss: 0.1517 - accuracy: 0.9413 - val_loss: 0.2258 - val_accuracy: 0.9183\n",
            "Epoch 5/50\n",
            "98/98 [==============================] - 40s 413ms/step - loss: 0.1388 - accuracy: 0.9464 - val_loss: 0.1360 - val_accuracy: 0.9472\n",
            "Epoch 6/50\n",
            "98/98 [==============================] - 41s 415ms/step - loss: 0.1298 - accuracy: 0.9498 - val_loss: 0.1638 - val_accuracy: 0.9374\n",
            "Epoch 7/50\n",
            "98/98 [==============================] - 41s 414ms/step - loss: 0.1221 - accuracy: 0.9531 - val_loss: 0.1105 - val_accuracy: 0.9572\n",
            "Epoch 8/50\n",
            "98/98 [==============================] - 41s 415ms/step - loss: 0.1162 - accuracy: 0.9554 - val_loss: 0.1133 - val_accuracy: 0.9577\n",
            "Epoch 9/50\n",
            "98/98 [==============================] - 41s 414ms/step - loss: 0.1101 - accuracy: 0.9576 - val_loss: 0.1004 - val_accuracy: 0.9626\n",
            "Epoch 10/50\n",
            "98/98 [==============================] - 41s 421ms/step - loss: 0.1058 - accuracy: 0.9598 - val_loss: 0.1031 - val_accuracy: 0.9620\n",
            "Epoch 11/50\n",
            "98/98 [==============================] - 41s 413ms/step - loss: 0.1018 - accuracy: 0.9614 - val_loss: 0.1150 - val_accuracy: 0.9577\n",
            "Epoch 12/50\n",
            "98/98 [==============================] - 41s 417ms/step - loss: 0.0989 - accuracy: 0.9622 - val_loss: 0.0940 - val_accuracy: 0.9643\n",
            "Epoch 13/50\n",
            "98/98 [==============================] - 40s 412ms/step - loss: 0.0937 - accuracy: 0.9645 - val_loss: 0.1015 - val_accuracy: 0.9636\n",
            "Epoch 14/50\n",
            "98/98 [==============================] - 41s 419ms/step - loss: 0.0910 - accuracy: 0.9654 - val_loss: 0.0913 - val_accuracy: 0.9669\n",
            "Epoch 15/50\n",
            "98/98 [==============================] - 41s 415ms/step - loss: 0.0887 - accuracy: 0.9661 - val_loss: 0.0920 - val_accuracy: 0.9665\n",
            "Epoch 16/50\n",
            "98/98 [==============================] - 40s 412ms/step - loss: 0.0856 - accuracy: 0.9675 - val_loss: 0.1052 - val_accuracy: 0.9634\n",
            "Epoch 17/50\n",
            "98/98 [==============================] - 41s 415ms/step - loss: 0.0844 - accuracy: 0.9678 - val_loss: 0.0880 - val_accuracy: 0.9682\n",
            "Epoch 18/50\n",
            "98/98 [==============================] - 41s 419ms/step - loss: 0.0816 - accuracy: 0.9691 - val_loss: 0.0920 - val_accuracy: 0.9669\n",
            "Epoch 19/50\n",
            "98/98 [==============================] - 41s 418ms/step - loss: 0.0797 - accuracy: 0.9696 - val_loss: 0.0967 - val_accuracy: 0.9660\n",
            "Epoch 20/50\n",
            "98/98 [==============================] - 41s 418ms/step - loss: 0.0787 - accuracy: 0.9703 - val_loss: 0.0935 - val_accuracy: 0.9671\n",
            "Epoch 21/50\n",
            "98/98 [==============================] - 41s 419ms/step - loss: 0.0769 - accuracy: 0.9707 - val_loss: 0.0842 - val_accuracy: 0.9706\n",
            "Epoch 22/50\n",
            "98/98 [==============================] - 41s 415ms/step - loss: 0.0742 - accuracy: 0.9717 - val_loss: 0.1007 - val_accuracy: 0.9669\n",
            "Epoch 23/50\n",
            "98/98 [==============================] - 41s 414ms/step - loss: 0.0731 - accuracy: 0.9726 - val_loss: 0.0903 - val_accuracy: 0.9694\n",
            "Epoch 24/50\n",
            "98/98 [==============================] - 41s 416ms/step - loss: 0.0712 - accuracy: 0.9730 - val_loss: 0.0843 - val_accuracy: 0.9709\n",
            "Epoch 25/50\n",
            "98/98 [==============================] - 41s 417ms/step - loss: 0.0704 - accuracy: 0.9732 - val_loss: 0.0811 - val_accuracy: 0.9707\n",
            "Epoch 26/50\n",
            "98/98 [==============================] - 41s 422ms/step - loss: 0.0689 - accuracy: 0.9739 - val_loss: 0.0852 - val_accuracy: 0.9698\n",
            "Epoch 27/50\n",
            "98/98 [==============================] - 41s 416ms/step - loss: 0.0664 - accuracy: 0.9748 - val_loss: 0.0730 - val_accuracy: 0.9739\n",
            "Epoch 28/50\n",
            "98/98 [==============================] - 41s 417ms/step - loss: 0.0655 - accuracy: 0.9753 - val_loss: 0.0754 - val_accuracy: 0.9735\n",
            "Epoch 29/50\n",
            "98/98 [==============================] - 41s 416ms/step - loss: 0.0661 - accuracy: 0.9751 - val_loss: 0.0649 - val_accuracy: 0.9756\n",
            "Epoch 30/50\n",
            "98/98 [==============================] - 41s 414ms/step - loss: 0.0637 - accuracy: 0.9761 - val_loss: 0.0948 - val_accuracy: 0.9692\n",
            "Epoch 31/50\n",
            "98/98 [==============================] - 41s 413ms/step - loss: 0.0616 - accuracy: 0.9766 - val_loss: 0.0754 - val_accuracy: 0.9734\n",
            "Epoch 32/50\n",
            "98/98 [==============================] - 40s 413ms/step - loss: 0.0626 - accuracy: 0.9766 - val_loss: 0.0780 - val_accuracy: 0.9730\n",
            "Epoch 33/50\n",
            "98/98 [==============================] - 40s 410ms/step - loss: 0.0598 - accuracy: 0.9775 - val_loss: 0.0830 - val_accuracy: 0.9745\n",
            "Epoch 34/50\n",
            "98/98 [==============================] - 40s 408ms/step - loss: 0.0597 - accuracy: 0.9774 - val_loss: 0.0905 - val_accuracy: 0.9733\n"
          ],
          "name": "stdout"
        },
        {
          "output_type": "execute_result",
          "data": {
            "text/plain": [
              "<keras.callbacks.callbacks.History at 0x7fb9f02ee860>"
            ]
          },
          "metadata": {
            "tags": []
          },
          "execution_count": 15
        }
      ]
    },
    {
      "cell_type": "code",
      "metadata": {
        "id": "I9NneeBP0lBY",
        "colab_type": "code",
        "outputId": "eb741565-9f17-4bfb-db94-1e08d0ad917e",
        "colab": {
          "base_uri": "https://localhost:8080/",
          "height": 35
        }
      },
      "source": [
        "# Save model and weights\n",
        "if not os.path.isdir(save_dir):\n",
        "    os.makedirs(save_dir)\n",
        "model_path = os.path.join(save_dir, model_name)\n",
        "model.save(model_path)\n",
        "print('Saved trained model at %s ' % model_path)"
      ],
      "execution_count": 16,
      "outputs": [
        {
          "output_type": "stream",
          "text": [
            "Saved trained model at /content/saved_models/keras_cifar10_trained_model.h5 \n"
          ],
          "name": "stdout"
        }
      ]
    },
    {
      "cell_type": "code",
      "metadata": {
        "id": "YL0eo0Aw0myD",
        "colab_type": "code",
        "outputId": "7f8db67e-50e1-42a8-f36d-089926ed0cb2",
        "colab": {
          "base_uri": "https://localhost:8080/",
          "height": 72
        }
      },
      "source": [
        "# Score trained model.\n",
        "scores = model.evaluate(x_test, y_test, verbose=1)\n",
        "print('Test loss:', scores[0])\n",
        "print('Test accuracy:', scores[1])"
      ],
      "execution_count": 17,
      "outputs": [
        {
          "output_type": "stream",
          "text": [
            "10000/10000 [==============================] - 2s 185us/step\n",
            "Test loss: 0.09051128251552581\n",
            "Test accuracy: 0.9733396768569946\n"
          ],
          "name": "stdout"
        }
      ]
    },
    {
      "cell_type": "code",
      "metadata": {
        "id": "MVDLatUnoue7",
        "colab_type": "code",
        "colab": {}
      },
      "source": [
        "CLASSES = np.array([\n",
        "    \"airplane\",\n",
        "    \"automobile\",\n",
        "    \"bird\",\n",
        "    \"cat\",\n",
        "    \"deer\",\n",
        "    \"dog\",\n",
        "    \"frog\",\n",
        "    \"horse\",\n",
        "    \"ship\",\n",
        "    \"truck\",\n",
        "])\n",
        "predictions = model.predict(x=x_test)\n",
        "predictions_single = CLASSES[np.argmax(predictions, axis=-1)]\n",
        "actual_single = CLASSES[np.argmax(y_test, axis=-1)]"
      ],
      "execution_count": 0,
      "outputs": []
    },
    {
      "cell_type": "code",
      "metadata": {
        "id": "iAtaehtDoh7i",
        "colab_type": "code",
        "colab": {
          "base_uri": "https://localhost:8080/",
          "height": 138
        },
        "outputId": "31fea649-ba27-4f80-83ee-9c09c4ad24cb"
      },
      "source": [
        "n_to_show = 10\n",
        "indices = np.random.choice(range(len(x_test)), n_to_show)\n",
        "\n",
        "fig = plt.figure(figsize=(15, 3))\n",
        "fig.subplots_adjust(hspace=0.4, wspace=0.4)\n",
        "\n",
        "for i, idx in enumerate(indices):\n",
        "    img = x_test[idx]\n",
        "    ax = fig.add_subplot(1, n_to_show, i + 1)\n",
        "    ax.axis(\"off\")\n",
        "    ax.text(\n",
        "        0.5,\n",
        "        -0.35,\n",
        "        \"pred = \" + str(predictions_single[idx]),\n",
        "        fontsize=10,\n",
        "        ha=\"center\",\n",
        "        transform=ax.transAxes,\n",
        "    )\n",
        "    ax.text(\n",
        "        0.5,\n",
        "        -0.7,\n",
        "        \"act = \" + str(actual_single[idx]),\n",
        "        fontsize=10,\n",
        "        ha=\"center\",\n",
        "        transform=ax.transAxes,\n",
        "    )\n",
        "    ax.imshow(img)"
      ],
      "execution_count": 26,
      "outputs": [
        {
          "output_type": "display_data",
          "data": {
            "image/png": "[encoded data removed]",
            "text/plain": [
              "<Figure size 1080x216 with 10 Axes>"
            ]
          },
          "metadata": {
            "tags": [],
            "needs_background": "light"
          }
        }
      ]
    }
  ]
}